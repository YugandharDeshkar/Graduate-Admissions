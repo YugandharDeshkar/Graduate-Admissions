{
  "nbformat": 4,
  "nbformat_minor": 0,
  "metadata": {
    "colab": {
      "name": "Graduate_Admissions.ipynb",
      "provenance": [],
      "toc_visible": true
    },
    "kernelspec": {
      "name": "python3",
      "display_name": "Python 3"
    }
  },
  "cells": [
    {
      "cell_type": "markdown",
      "metadata": {
        "id": "dw-eXR2018Ln",
        "colab_type": "text"
      },
      "source": [
        "##Installing dependencies and version check\n"
      ]
    },
    {
      "cell_type": "code",
      "metadata": {
        "id": "S5dlMD202B5w",
        "colab_type": "code",
        "outputId": "b1ace755-5567-47d3-d2aa-2972107da9d1",
        "colab": {
          "base_uri": "https://localhost:8080/",
          "height": 201
        }
      },
      "source": [
        "# Use the command below to install any dependencies your system is missing\n",
        "# !pip install -q sklearn-classification_report\n",
        "\n",
        "import sys\n",
        "import numpy\n",
        "import matplotlib\n",
        "import pandas\n",
        "import sklearn\n",
        "import seaborn\n",
        "\n",
        "print('Python : {}'.format(sys.version))\n",
        "print('Numpy : {}'.format(numpy.__version__))\n",
        "print('Matplotlib : {}'.format(matplotlib.__version__))\n",
        "print('Pandas : {}'.format(pandas.__version__))\n",
        "print('Scikit-Learn : {}'.format(sklearn.__version__))\n",
        "print('Seaborn : {}'.format(seaborn.__version__))"
      ],
      "execution_count": 0,
      "outputs": [
        {
          "output_type": "stream",
          "text": [
            "Python : 3.6.9 (default, Apr 18 2020, 01:56:04) \n",
            "[GCC 8.4.0]\n",
            "Numpy : 1.18.4\n",
            "Matplotlib : 3.2.1\n",
            "Pandas : 1.0.3\n",
            "Scikit-Learn : 0.22.2.post1\n",
            "Seaborn : 0.10.1\n"
          ],
          "name": "stdout"
        },
        {
          "output_type": "stream",
          "text": [
            "/usr/local/lib/python3.6/dist-packages/statsmodels/tools/_testing.py:19: FutureWarning: pandas.util.testing is deprecated. Use the functions in the public API at pandas.testing instead.\n",
            "  import pandas.util.testing as tm\n"
          ],
          "name": "stderr"
        }
      ]
    },
    {
      "cell_type": "markdown",
      "metadata": {
        "id": "1caEIhMe1xwj",
        "colab_type": "text"
      },
      "source": [
        "##Importing Libraries"
      ]
    },
    {
      "cell_type": "code",
      "metadata": {
        "id": "xa9e6cgV11Am",
        "colab_type": "code",
        "colab": {}
      },
      "source": [
        "import numpy as np\n",
        "import matplotlib.pyplot as plt\n",
        "import pandas as pd\n",
        "import seaborn as sns"
      ],
      "execution_count": 0,
      "outputs": []
    },
    {
      "cell_type": "markdown",
      "metadata": {
        "id": "yWJlS6zb2INw",
        "colab_type": "text"
      },
      "source": [
        "##Importing the dataset\n"
      ]
    },
    {
      "cell_type": "code",
      "metadata": {
        "id": "EeNbl0cN2KaC",
        "colab_type": "code",
        "colab": {}
      },
      "source": [
        "dataset = pd.read_csv(\"Admission_Predict.csv\")\n",
        "X = dataset.iloc[:, :-1].values\n",
        "y = dataset.iloc[:, -1].values"
      ],
      "execution_count": 0,
      "outputs": []
    },
    {
      "cell_type": "markdown",
      "metadata": {
        "id": "lldiHqst3CXm",
        "colab_type": "text"
      },
      "source": [
        "##Visualising the dataset"
      ]
    },
    {
      "cell_type": "code",
      "metadata": {
        "id": "SoouDxcR3G-T",
        "colab_type": "code",
        "outputId": "f85017f3-57be-494b-efd3-dcf5a0f2d225",
        "colab": {
          "base_uri": "https://localhost:8080/",
          "height": 1000
        }
      },
      "source": [
        "print(dataset.shape)\n",
        "print(dataset.describe)\n",
        "dataset.hist(figsize = (10, 10))\n",
        "# sns.heatmap('Admission_Predict.csv')"
      ],
      "execution_count": 0,
      "outputs": [
        {
          "output_type": "stream",
          "text": [
            "(400, 8)\n",
            "<bound method NDFrame.describe of      GRE Score  TOEFL Score  ...  Research  Chance of Admit \n",
            "0          337          118  ...         1              0.92\n",
            "1          324          107  ...         1              0.76\n",
            "2          316          104  ...         1              0.72\n",
            "3          322          110  ...         1              0.80\n",
            "4          314          103  ...         0              0.65\n",
            "..         ...          ...  ...       ...               ...\n",
            "395        324          110  ...         1              0.82\n",
            "396        325          107  ...         1              0.84\n",
            "397        330          116  ...         1              0.91\n",
            "398        312          103  ...         0              0.67\n",
            "399        333          117  ...         1              0.95\n",
            "\n",
            "[400 rows x 8 columns]>\n"
          ],
          "name": "stdout"
        },
        {
          "output_type": "execute_result",
          "data": {
            "text/plain": [
              "array([[<matplotlib.axes._subplots.AxesSubplot object at 0x7fc12f381240>,\n",
              "        <matplotlib.axes._subplots.AxesSubplot object at 0x7fc12f2aa390>,\n",
              "        <matplotlib.axes._subplots.AxesSubplot object at 0x7fc12f2f4e80>],\n",
              "       [<matplotlib.axes._subplots.AxesSubplot object at 0x7fc12f338240>,\n",
              "        <matplotlib.axes._subplots.AxesSubplot object at 0x7fc12efef5c0>,\n",
              "        <matplotlib.axes._subplots.AxesSubplot object at 0x7fc12efcb940>],\n",
              "       [<matplotlib.axes._subplots.AxesSubplot object at 0x7fc12f065cc0>,\n",
              "        <matplotlib.axes._subplots.AxesSubplot object at 0x7fc12f01c080>,\n",
              "        <matplotlib.axes._subplots.AxesSubplot object at 0x7fc12f01c0b8>]],\n",
              "      dtype=object)"
            ]
          },
          "metadata": {
            "tags": []
          },
          "execution_count": 58
        },
        {
          "output_type": "display_data",
          "data": {
            "image/png": "[encoded data removed]",
            "text/plain": [
              "<Figure size 720x720 with 9 Axes>"
            ]
          },
          "metadata": {
            "tags": [],
            "needs_background": "light"
          }
        }
      ]
    },
    {
      "cell_type": "markdown",
      "metadata": {
        "id": "4I5ndIO_2mSh",
        "colab_type": "text"
      },
      "source": [
        "##Splitting the dataset into training and test sets"
      ]
    },
    {
      "cell_type": "code",
      "metadata": {
        "id": "pQPl2J6O2qkA",
        "colab_type": "code",
        "colab": {}
      },
      "source": [
        "from sklearn.model_selection import train_test_split\n",
        "X_train, X_test, y_train, y_test = train_test_split(X, y, test_size = 0.2, random_state = 0)"
      ],
      "execution_count": 0,
      "outputs": []
    },
    {
      "cell_type": "markdown",
      "metadata": {
        "id": "Sz4RZ7s93rC4",
        "colab_type": "text"
      },
      "source": [
        "##Feature Scaling"
      ]
    },
    {
      "cell_type": "code",
      "metadata": {
        "id": "mN-7eY4g3w4Z",
        "colab_type": "code",
        "colab": {}
      },
      "source": [
        "from sklearn.preprocessing import StandardScaler\n",
        "sc = StandardScaler()\n",
        "X_train = sc.fit_transform(X_train)\n",
        "#X_test = sc.fit(X_test)"
      ],
      "execution_count": 0,
      "outputs": []
    },
    {
      "cell_type": "code",
      "metadata": {
        "id": "WBDvOmXw4BxV",
        "colab_type": "code",
        "outputId": "a7d496b4-6304-44a8-e0f0-c727d6348640",
        "colab": {
          "base_uri": "https://localhost:8080/",
          "height": 253
        }
      },
      "source": [
        "print(X_train)"
      ],
      "execution_count": 0,
      "outputs": [
        {
          "output_type": "stream",
          "text": [
            "[[ 0.18702149  0.42056561 -0.09750979 ... -1.08116764  0.28993359\n",
            "  -1.12672248]\n",
            " [ 0.70368516  0.58488917 -0.09750979 ...  0.02594802  0.14151398\n",
            "  -1.12672248]\n",
            " [ 0.2731321  -0.72969931 -0.09750979 ... -0.52760981 -1.5075928\n",
            "  -1.12672248]\n",
            " ...\n",
            " [-2.31018627 -0.56537575  0.76924386 ... -1.08116764 -1.90337843\n",
            "  -1.12672248]\n",
            " [ 1.90923373  1.89947766  1.63599751 ...  0.57950586  1.79062075\n",
            "  -1.12672248]\n",
            " [ 0.44535332  0.42056561  0.76924386 ...  1.68662152  0.85062989\n",
            "   0.88753   ]]\n"
          ],
          "name": "stdout"
        }
      ]
    },
    {
      "cell_type": "code",
      "metadata": {
        "id": "6VOmt66t4CAv",
        "colab_type": "code",
        "outputId": "5e555f51-bc89-45d1-94ba-7b1ff654aa4f",
        "colab": {
          "base_uri": "https://localhost:8080/",
          "height": 1000
        }
      },
      "source": [
        "print(X_test)"
      ],
      "execution_count": 0,
      "outputs": [
        {
          "output_type": "stream",
          "text": [
            "[[309.   105.     5.     3.5    3.5    8.56   0.  ]\n",
            " [308.   110.     4.     3.5    3.     8.6    0.  ]\n",
            " [326.   110.     3.     3.5    3.5    8.76   1.  ]\n",
            " [306.   105.     2.     3.     2.5    8.26   0.  ]\n",
            " [316.   105.     3.     3.     3.5    8.73   0.  ]\n",
            " [309.   100.     2.     3.     3.     8.1    0.  ]\n",
            " [312.   109.     3.     3.     3.     8.69   0.  ]\n",
            " [312.   104.     3.     3.5    4.     8.09   0.  ]\n",
            " [332.   118.     2.     4.5    3.5    9.36   1.  ]\n",
            " [331.   117.     4.     4.5    5.     9.42   1.  ]\n",
            " [300.   105.     1.     1.     2.     7.8    0.  ]\n",
            " [333.   113.     5.     4.     4.     9.28   1.  ]\n",
            " [320.   110.     2.     4.     3.5    8.56   0.  ]\n",
            " [302.    99.     1.     2.     2.     7.25   0.  ]\n",
            " [328.   112.     4.     4.     4.5    9.1    1.  ]\n",
            " [311.   104.     2.     2.     2.     8.3    0.  ]\n",
            " [312.    98.     1.     3.5    3.     8.18   1.  ]\n",
            " [329.   110.     2.     4.     3.     9.15   1.  ]\n",
            " [315.    99.     2.     3.5    3.     7.89   0.  ]\n",
            " [313.   107.     3.     4.     4.5    8.69   0.  ]\n",
            " [329.   119.     4.     4.5    4.5    9.16   1.  ]\n",
            " [327.   113.     4.     4.5    5.     9.14   0.  ]\n",
            " [301.   106.     4.     2.5    3.     8.47   0.  ]\n",
            " [295.    96.     2.     1.5    2.     7.34   0.  ]\n",
            " [320.   111.     4.     4.5    3.5    8.87   1.  ]\n",
            " [301.   100.     3.     3.5    3.     8.04   0.  ]\n",
            " [296.    95.     2.     3.     2.     7.54   1.  ]\n",
            " [314.   105.     3.     3.5    2.5    8.3    0.  ]\n",
            " [336.   118.     5.     4.5    4.     9.19   1.  ]\n",
            " [314.   106.     2.     4.     3.5    8.25   0.  ]\n",
            " [312.   101.     2.     2.5    3.5    8.04   1.  ]\n",
            " [323.   107.     3.     3.5    3.5    8.55   1.  ]\n",
            " [312.   107.     4.     4.5    4.     8.65   1.  ]\n",
            " [296.    99.     2.     2.5    2.5    8.03   0.  ]\n",
            " [325.   112.     4.     3.5    3.5    8.92   0.  ]\n",
            " [327.   112.     3.     3.     3.     8.72   1.  ]\n",
            " [318.   106.     2.     4.     4.     7.92   1.  ]\n",
            " [323.   113.     4.     4.     4.5    9.23   1.  ]\n",
            " [307.   102.     3.     3.     3.     8.27   0.  ]\n",
            " [333.   117.     4.     5.     4.     9.66   1.  ]\n",
            " [322.   107.     3.     3.5    3.5    8.46   1.  ]\n",
            " [314.   107.     2.     2.5    4.     8.27   0.  ]\n",
            " [321.   109.     3.     3.     4.     8.2    1.  ]\n",
            " [324.   107.     4.     4.     4.5    8.87   1.  ]\n",
            " [320.   120.     3.     4.     4.5    9.11   0.  ]\n",
            " [322.   110.     3.     3.     3.5    8.     0.  ]\n",
            " [315.   105.     2.     2.     2.5    7.65   0.  ]\n",
            " [307.   110.     4.     4.     4.5    8.37   0.  ]\n",
            " [306.   106.     2.     2.     2.5    8.14   0.  ]\n",
            " [304.   100.     2.     2.5    3.5    8.07   0.  ]\n",
            " [311.   104.     2.     2.5    3.5    8.48   0.  ]\n",
            " [325.   112.     2.     3.     3.5    8.96   1.  ]\n",
            " [316.   101.     2.     2.5    2.     8.32   1.  ]\n",
            " [334.   117.     5.     4.     4.5    9.07   1.  ]\n",
            " [311.   102.     3.     4.5    4.     8.64   1.  ]\n",
            " [324.   111.     3.     2.5    2.     8.8    1.  ]\n",
            " [334.   116.     4.     4.     3.     8.     1.  ]\n",
            " [325.   106.     3.     3.5    4.     8.4    1.  ]\n",
            " [322.   109.     5.     4.5    3.5    8.8    0.  ]\n",
            " [322.   110.     5.     5.     4.     9.1    1.  ]\n",
            " [314.   106.     3.     3.     5.     8.9    0.  ]\n",
            " [294.    95.     1.     1.5    1.5    7.64   0.  ]\n",
            " [314.   103.     2.     2.     3.     8.21   0.  ]\n",
            " [297.    98.     2.     2.5    3.     7.67   0.  ]\n",
            " [323.   110.     5.     4.     5.     8.98   1.  ]\n",
            " [324.   110.     3.     3.5    3.     9.22   1.  ]\n",
            " [320.   113.     2.     2.     2.5    8.64   1.  ]\n",
            " [330.   115.     5.     4.5    3.     9.34   1.  ]\n",
            " [326.   108.     3.     3.     3.5    8.89   0.  ]\n",
            " [320.   104.     3.     3.     3.5    8.74   1.  ]\n",
            " [308.   101.     2.     3.     4.     7.9    0.  ]\n",
            " [327.   108.     5.     5.     3.5    9.13   1.  ]\n",
            " [318.   109.     3.     3.5    4.     9.22   1.  ]\n",
            " [312.   107.     3.     3.     2.     7.9    1.  ]\n",
            " [338.   117.     4.     3.5    4.5    9.46   1.  ]\n",
            " [311.   104.     3.     3.5    2.     8.2    1.  ]\n",
            " [306.   103.     2.     2.5    3.     8.36   0.  ]\n",
            " [313.   106.     2.     2.5    2.     8.43   0.  ]\n",
            " [334.   116.     4.     4.     3.5    9.54   1.  ]\n",
            " [297.    96.     2.     2.5    1.5    7.89   0.  ]]\n"
          ],
          "name": "stdout"
        }
      ]
    },
    {
      "cell_type": "code",
      "metadata": {
        "id": "bdkWpjld4Scb",
        "colab_type": "code",
        "outputId": "e9c4dc70-c81f-4144-d56a-ee163849cfa6",
        "colab": {
          "base_uri": "https://localhost:8080/",
          "height": 435
        }
      },
      "source": [
        "print(y_train)"
      ],
      "execution_count": 0,
      "outputs": [
        {
          "output_type": "stream",
          "text": [
            "[0.72 0.52 0.64 0.87 0.62 0.82 0.57 0.79 0.82 0.81 0.78 0.93 0.64 0.5\n",
            " 0.9  0.75 0.82 0.64 0.75 0.77 0.74 0.56 0.78 0.52 0.8  0.75 0.96 0.62\n",
            " 0.79 0.68 0.48 0.74 0.76 0.7  0.86 0.91 0.9  0.78 0.7  0.59 0.34 0.71\n",
            " 0.91 0.69 0.47 0.92 0.94 0.71 0.74 0.64 0.93 0.77 0.61 0.6  0.84 0.64\n",
            " 0.84 0.77 0.63 0.65 0.81 0.84 0.65 0.59 0.7  0.57 0.7  0.81 0.88 0.56\n",
            " 0.8  0.94 0.79 0.62 0.93 0.76 0.78 0.85 0.7  0.71 0.8  0.79 0.9  0.56\n",
            " 0.67 0.94 0.74 0.86 0.76 0.47 0.64 0.81 0.73 0.71 0.73 0.89 0.93 0.86\n",
            " 0.75 0.84 0.67 0.84 0.71 0.73 0.76 0.79 0.54 0.71 0.85 0.54 0.56 0.8\n",
            " 0.64 0.44 0.72 0.85 0.7  0.95 0.34 0.75 0.8  0.85 0.74 0.58 0.66 0.8\n",
            " 0.59 0.88 0.69 0.84 0.57 0.97 0.75 0.91 0.65 0.92 0.44 0.69 0.65 0.76\n",
            " 0.62 0.58 0.46 0.63 0.94 0.46 0.77 0.89 0.96 0.62 0.57 0.96 0.96 0.49\n",
            " 0.71 0.57 0.74 0.53 0.92 0.88 0.91 0.47 0.85 0.93 0.64 0.38 0.61 0.79\n",
            " 0.65 0.86 0.66 0.77 0.72 0.68 0.69 0.57 0.65 0.78 0.86 0.8  0.8  0.69\n",
            " 0.62 0.63 0.79 0.8  0.89 0.64 0.64 0.72 0.66 0.71 0.47 0.68 0.79 0.5\n",
            " 0.77 0.84 0.9  0.72 0.72 0.64 0.82 0.36 0.49 0.72 0.76 0.68 0.58 0.54\n",
            " 0.73 0.61 0.76 0.54 0.65 0.96 0.93 0.95 0.87 0.92 0.72 0.81 0.9  0.53\n",
            " 0.72 0.76 0.36 0.67 0.42 0.73 0.65 0.78 0.74 0.82 0.66 0.67 0.64 0.96\n",
            " 0.97 0.71 0.77 0.68 0.67 0.7  0.67 0.97 0.94 0.94 0.49 0.74 0.38 0.92\n",
            " 0.73 0.71 0.56 0.46 0.73 0.78 0.73 0.53 0.69 0.51 0.52 0.63 0.52 0.72\n",
            " 0.42 0.84 0.58 0.46 0.75 0.68 0.94 0.63 0.97 0.74 0.91 0.78 0.89 0.95\n",
            " 0.82 0.91 0.83 0.93 0.72 0.82 0.79 0.81 0.83 0.73 0.76 0.66 0.71 0.93\n",
            " 0.71 0.94 0.78 0.94 0.96 0.87 0.46 0.48 0.94 0.66 0.64 0.94 0.66 0.56\n",
            " 0.7  0.7  0.82 0.45 0.81 0.78 0.7  0.62 0.86 0.45 0.89 0.86]\n"
          ],
          "name": "stdout"
        }
      ]
    },
    {
      "cell_type": "code",
      "metadata": {
        "id": "hYaT7JzS4bBZ",
        "colab_type": "code",
        "outputId": "9d9bf3ed-5b63-494a-f081-ec096216f9bc",
        "colab": {
          "base_uri": "https://localhost:8080/",
          "height": 126
        }
      },
      "source": [
        "print(y_test)"
      ],
      "execution_count": 0,
      "outputs": [
        {
          "output_type": "stream",
          "text": [
            "[0.71 0.7  0.79 0.73 0.72 0.48 0.77 0.71 0.9  0.94 0.58 0.89 0.72 0.57\n",
            " 0.78 0.42 0.64 0.84 0.63 0.72 0.9  0.83 0.57 0.47 0.85 0.67 0.44 0.54\n",
            " 0.92 0.62 0.68 0.73 0.73 0.61 0.55 0.74 0.64 0.89 0.73 0.95 0.71 0.72\n",
            " 0.75 0.76 0.86 0.7  0.39 0.79 0.61 0.64 0.71 0.8  0.61 0.89 0.68 0.79\n",
            " 0.78 0.52 0.76 0.88 0.74 0.49 0.65 0.59 0.87 0.89 0.81 0.9  0.8  0.76\n",
            " 0.68 0.87 0.68 0.64 0.91 0.61 0.69 0.62 0.93 0.43]\n"
          ],
          "name": "stdout"
        }
      ]
    },
    {
      "cell_type": "markdown",
      "metadata": {
        "id": "Q07hKzhU4nNo",
        "colab_type": "text"
      },
      "source": [
        "##Training Random Forest model on the whole dataset\n"
      ]
    },
    {
      "cell_type": "code",
      "metadata": {
        "id": "X1EbpnCE4teP",
        "colab_type": "code",
        "outputId": "3f572d6b-4639-467c-b01a-a7299443d842",
        "colab": {
          "base_uri": "https://localhost:8080/",
          "height": 144
        }
      },
      "source": [
        "from sklearn.ensemble import RandomForestRegressor\n",
        "regressor = RandomForestRegressor(n_estimators = 10, random_state = 0)\n",
        "regressor.fit(X, y)"
      ],
      "execution_count": 0,
      "outputs": [
        {
          "output_type": "execute_result",
          "data": {
            "text/plain": [
              "RandomForestRegressor(bootstrap=True, ccp_alpha=0.0, criterion='mse',\n",
              "                      max_depth=None, max_features='auto', max_leaf_nodes=None,\n",
              "                      max_samples=None, min_impurity_decrease=0.0,\n",
              "                      min_impurity_split=None, min_samples_leaf=1,\n",
              "                      min_samples_split=2, min_weight_fraction_leaf=0.0,\n",
              "                      n_estimators=10, n_jobs=None, oob_score=False,\n",
              "                      random_state=0, verbose=0, warm_start=False)"
            ]
          },
          "metadata": {
            "tags": []
          },
          "execution_count": 49
        }
      ]
    },
    {
      "cell_type": "markdown",
      "metadata": {
        "id": "w99JfNrE5GnX",
        "colab_type": "text"
      },
      "source": [
        "##Predicting a new result"
      ]
    },
    {
      "cell_type": "code",
      "metadata": {
        "id": "5Xuw8_EW5LyQ",
        "colab_type": "code",
        "colab": {}
      },
      "source": [
        "# To predict a new entry\n",
        "# regressor.predict([[337, 118, 4, 4.5, 4.5, 9.65, 1]])\n",
        "y_pred = regressor.predict(X_test)"
      ],
      "execution_count": 0,
      "outputs": []
    },
    {
      "cell_type": "markdown",
      "metadata": {
        "id": "v_A8RDDIGWuu",
        "colab_type": "text"
      },
      "source": [
        "##Evaluation metrics"
      ]
    },
    {
      "cell_type": "code",
      "metadata": {
        "id": "40QDIugaGjMl",
        "colab_type": "code",
        "outputId": "0b382af1-a891-46ed-952f-6596f9df61d8",
        "colab": {
          "base_uri": "https://localhost:8080/",
          "height": 35
        }
      },
      "source": [
        "from sklearn.metrics import r2_score\n",
        "r2_score(y_test, y_pred)"
      ],
      "execution_count": 0,
      "outputs": [
        {
          "output_type": "execute_result",
          "data": {
            "text/plain": [
              "0.9397935356694095"
            ]
          },
          "metadata": {
            "tags": []
          },
          "execution_count": 51
        }
      ]
    }
  ]
}